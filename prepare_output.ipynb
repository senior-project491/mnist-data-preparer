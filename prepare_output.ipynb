{
 "cells": [
  {
   "cell_type": "code",
   "execution_count": 1,
   "metadata": {},
   "outputs": [],
   "source": [
    "import pandas as pd\n",
    "import numpy as np\n",
    "from PIL import Image\n",
    "import os\n",
    "import cv2"
   ]
  },
  {
   "cell_type": "code",
   "execution_count": 2,
   "metadata": {},
   "outputs": [],
   "source": [
    "INPUT_DIR = './input/'\n",
    "INPUT_FONT_DIR = './input/times_new_roman/'\n",
    "OUTPUT_DIR = './output/'\n",
    "TRAIN_FILE = 'mnist_train.csv.gz'\n",
    "nrows = None\n",
    "invert = True"
   ]
  },
  {
   "cell_type": "code",
   "execution_count": 3,
   "metadata": {},
   "outputs": [],
   "source": [
    "def im_to_np(image_path):\n",
    "    im = cv2.imread(image_path)\n",
    "    return (255 - (cv2.cvtColor(im, cv2.COLOR_BGR2GRAY))) if invert else cv2.cvtColor(im, cv2.COLOR_BGR2GRAY)"
   ]
  },
  {
   "cell_type": "code",
   "execution_count": 4,
   "metadata": {},
   "outputs": [],
   "source": [
    "font_digit_images = {str(i): im_to_np(os.path.join(INPUT_FONT_DIR, f'{i}.png'))for i in range(10)}"
   ]
  },
  {
   "cell_type": "code",
   "execution_count": 5,
   "metadata": {},
   "outputs": [],
   "source": [
    "# load data\n",
    "train_df = pd.read_csv(os.path.join(INPUT_DIR, TRAIN_FILE), nrows=nrows)"
   ]
  },
  {
   "cell_type": "code",
   "execution_count": 6,
   "metadata": {},
   "outputs": [],
   "source": [
    "arr = None\n",
    "for ind, row in train_df.iterrows():\n",
    "    i = row['label']\n",
    "    arr = np.array(row[1:], dtype=np.uint8)\n",
    "    arr.resize((28, 28))\n",
    "    arr = np.hstack((arr, font_digit_images[str(i)]))\n",
    "    im = Image.fromarray(arr)\n",
    "    im.save(OUTPUT_DIR + f\"{i}-{ind}.png\")"
   ]
  }
 ],
 "metadata": {
  "kernelspec": {
   "display_name": "Python 3",
   "language": "python",
   "name": "python3"
  },
  "language_info": {
   "codemirror_mode": {
    "name": "ipython",
    "version": 3
   },
   "file_extension": ".py",
   "mimetype": "text/x-python",
   "name": "python",
   "nbconvert_exporter": "python",
   "pygments_lexer": "ipython3",
   "version": "3.6.7"
  }
 },
 "nbformat": 4,
 "nbformat_minor": 2
}
